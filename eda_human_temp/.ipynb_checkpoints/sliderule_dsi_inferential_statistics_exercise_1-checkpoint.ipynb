{
 "cells": [
  {
   "cell_type": "markdown",
   "metadata": {},
   "source": [
    "# What is the True Normal Human Body Temperature? \n",
    "\n",
    "#### Background\n",
    "\n",
    "The mean normal body temperature was held to be 37$^{\\circ}$C or 98.6$^{\\circ}$F for more than 120 years since it was first conceptualized and reported by Carl Wunderlich in a famous 1868 book. But, is this value statistically correct?"
   ]
  },
  {
   "cell_type": "markdown",
   "metadata": {},
   "source": [
    "<h3>Exercises</h3>\n",
    "\n",
    "<p>In this exercise, you will analyze a dataset of human body temperatures and employ the concepts of hypothesis testing, confidence intervals, and statistical significance.</p>\n",
    "\n",
    "<p>Answer the following questions <b>in this notebook below and submit to your Github account</b>.</p> \n",
    "\n",
    "<ol>\n",
    "<li>  Is the distribution of body temperatures normal? \n",
    "    <ul>\n",
    "    <li> Although this is not a requirement for the Central Limit Theorem to hold (read the introduction on Wikipedia's page about the CLT carefully: https://en.wikipedia.org/wiki/Central_limit_theorem), it gives us some peace of mind that the population may also be normally distributed if we assume that this sample is representative of the population.\n",
    "    <li> Think about the way you're going to check for the normality of the distribution. Graphical methods are usually used first, but there are also other ways: https://en.wikipedia.org/wiki/Normality_test\n",
    "    </ul>\n",
    "<li>  Is the sample size large? Are the observations independent?\n",
    "    <ul>\n",
    "    <li> Remember that this is a condition for the Central Limit Theorem, and hence the statistical tests we are using, to apply.\n",
    "    </ul>\n",
    "<li>  Is the true population mean really 98.6 degrees F?\n",
    "    <ul>\n",
    "    <li> First, try a bootstrap hypothesis test.\n",
    "    <li> Now, let's try frequentist statistical testing. Would you use a one-sample or two-sample test? Why?\n",
    "    <li> In this situation, is it appropriate to use the $t$ or $z$ statistic? \n",
    "    <li> Now try using the other test. How is the result be different? Why?\n",
    "    </ul>\n",
    "<li>  Draw a small sample of size 10 from the data and repeat both frequentist tests. \n",
    "    <ul>\n",
    "    <li> Which one is the correct one to use? \n",
    "    <li> What do you notice? What does this tell you about the difference in application of the $t$ and $z$ statistic?\n",
    "    </ul>\n",
    "<li>  At what temperature should we consider someone's temperature to be \"abnormal\"?\n",
    "    <ul>\n",
    "    <li> As in the previous example, try calculating everything using the boostrap approach, as well as the frequentist approach.\n",
    "    <li> Start by computing the margin of error and confidence interval. When calculating the confidence interval, keep in mind that you should use the appropriate formula for one draw, and not N draws.\n",
    "    </ul>\n",
    "<li>  Is there a significant difference between males and females in normal temperature?\n",
    "    <ul>\n",
    "    <li> What testing approach did you use and why?\n",
    "    <li> Write a story with your conclusion in the context of the original problem.\n",
    "    </ul>\n",
    "</ol>\n",
    "\n",
    "You can include written notes in notebook cells using Markdown: \n",
    "   - In the control panel at the top, choose Cell > Cell Type > Markdown\n",
    "   - Markdown syntax: http://nestacms.com/docs/creating-content/markdown-cheat-sheet\n",
    "\n",
    "#### Resources\n",
    "\n",
    "+ Information and data sources: http://www.amstat.org/publications/jse/datasets/normtemp.txt, http://www.amstat.org/publications/jse/jse_data_archive.htm\n",
    "+ Markdown syntax: http://nestacms.com/docs/creating-content/markdown-cheat-sheet\n",
    "\n",
    "****"
   ]
  },
  {
   "cell_type": "code",
   "execution_count": 1,
   "metadata": {},
   "outputs": [],
   "source": [
    "import pandas as pd\n",
    "import numpy as np\n",
    "import scipy.stats as sp\n",
    "import matplotlib.pyplot as plt\n",
    "\n",
    "df = pd.read_csv('data/human_body_temperature.csv')"
   ]
  },
  {
   "cell_type": "code",
   "execution_count": 2,
   "metadata": {},
   "outputs": [
    {
     "data": {
      "text/html": [
       "<div>\n",
       "<style scoped>\n",
       "    .dataframe tbody tr th:only-of-type {\n",
       "        vertical-align: middle;\n",
       "    }\n",
       "\n",
       "    .dataframe tbody tr th {\n",
       "        vertical-align: top;\n",
       "    }\n",
       "\n",
       "    .dataframe thead th {\n",
       "        text-align: right;\n",
       "    }\n",
       "</style>\n",
       "<table border=\"1\" class=\"dataframe\">\n",
       "  <thead>\n",
       "    <tr style=\"text-align: right;\">\n",
       "      <th></th>\n",
       "      <th>temperature</th>\n",
       "      <th>gender</th>\n",
       "      <th>heart_rate</th>\n",
       "    </tr>\n",
       "  </thead>\n",
       "  <tbody>\n",
       "    <tr>\n",
       "      <th>0</th>\n",
       "      <td>99.3</td>\n",
       "      <td>F</td>\n",
       "      <td>68.0</td>\n",
       "    </tr>\n",
       "    <tr>\n",
       "      <th>1</th>\n",
       "      <td>98.4</td>\n",
       "      <td>F</td>\n",
       "      <td>81.0</td>\n",
       "    </tr>\n",
       "    <tr>\n",
       "      <th>2</th>\n",
       "      <td>97.8</td>\n",
       "      <td>M</td>\n",
       "      <td>73.0</td>\n",
       "    </tr>\n",
       "    <tr>\n",
       "      <th>3</th>\n",
       "      <td>99.2</td>\n",
       "      <td>F</td>\n",
       "      <td>66.0</td>\n",
       "    </tr>\n",
       "    <tr>\n",
       "      <th>4</th>\n",
       "      <td>98.0</td>\n",
       "      <td>F</td>\n",
       "      <td>73.0</td>\n",
       "    </tr>\n",
       "  </tbody>\n",
       "</table>\n",
       "</div>"
      ],
      "text/plain": [
       "   temperature gender  heart_rate\n",
       "0         99.3      F        68.0\n",
       "1         98.4      F        81.0\n",
       "2         97.8      M        73.0\n",
       "3         99.2      F        66.0\n",
       "4         98.0      F        73.0"
      ]
     },
     "execution_count": 2,
     "metadata": {},
     "output_type": "execute_result"
    }
   ],
   "source": [
    "# Print dataframe head: top 5 observations\n",
    "df.head()"
   ]
  },
  {
   "cell_type": "markdown",
   "metadata": {},
   "source": [
    "##  Q1. Is the distribution of body temperatures normal? ##"
   ]
  },
  {
   "cell_type": "code",
   "execution_count": 3,
   "metadata": {},
   "outputs": [
    {
     "data": {
      "image/png": "[encoded data removed]",
      "text/plain": [
       "<matplotlib.figure.Figure at 0x1cf88b687f0>"
      ]
     },
     "metadata": {},
     "output_type": "display_data"
    }
   ],
   "source": [
    "df.temperature.hist(bins=20, facecolor='blue', edgecolor='black')\n",
    "plt.title('Distribution of body temperature')\n",
    "plt.xlabel('Temperature')\n",
    "plt.ylabel('Counts')\n",
    "plt.show()"
   ]
  },
  {
   "cell_type": "markdown",
   "metadata": {},
   "source": [
    "We noticed that distribution of body temperature is quite normal shape. However, it shows a bimodal type of characteristics with two peaks. More statistical way to confirm this is that we can compute test of normality!"
   ]
  },
  {
   "cell_type": "code",
   "execution_count": 4,
   "metadata": {},
   "outputs": [
    {
     "data": {
      "text/plain": [
       "NormaltestResult(statistic=2.7038014333192031, pvalue=0.2587479863488254)"
      ]
     },
     "execution_count": 4,
     "metadata": {},
     "output_type": "execute_result"
    }
   ],
   "source": [
    "sp.mstats.normaltest(df.temperature)"
   ]
  },
  {
   "cell_type": "markdown",
   "metadata": {},
   "source": [
    "H0: distribution of data is not normal. \n",
    "Ha: distribution of data is normal\n",
    "\n",
    "The p-value (0.25) of normality test indicates that the null hypothesis here is failing.\n",
    "Meaning that the distribution of body temperature does fit normal distribution!"
   ]
  },
  {
   "cell_type": "markdown",
   "metadata": {},
   "source": [
    "## Q2. Is the sample size large enough? Are observations independent? ##\n",
    "According to a condition for the Central Limit Theorem, the minimum sample size of observations must be 30."
   ]
  },
  {
   "cell_type": "code",
   "execution_count": 5,
   "metadata": {},
   "outputs": [
    {
     "data": {
      "text/plain": [
       "130"
      ]
     },
     "execution_count": 5,
     "metadata": {},
     "output_type": "execute_result"
    }
   ],
   "source": [
    "len(df.temperature)"
   ]
  },
  {
   "cell_type": "markdown",
   "metadata": {},
   "source": [
    "Since the length of observations is 130, the sample size qualified CLT condition.\n",
    "\n",
    "Thus, we can apply z-statistics (z-score) for hypothesis testing.\n",
    "The sample is a good representation of population with a normal distribution"
   ]
  },
  {
   "cell_type": "markdown",
   "metadata": {},
   "source": [
    "## Q3. Is the true population mean really 98.6 degress F? ##\n",
    "Try a boostrap hypothesis test\n",
    "Next, try a frequentist statistical testing. Would you use one-sample or two-sampl test? Why?\n",
    "Is it appropriate to use the t or z statistics? \n",
    "Now using the other test, how result will be different? Why?\n",
    "\n",
    "* H0: The true population mean of temperature is 98.6 degrees F.\n",
    "* Ha: The true population mean of temperature is not 98.6 degrees F."
   ]
  },
  {
   "cell_type": "code",
   "execution_count": 6,
   "metadata": {},
   "outputs": [
    {
     "data": {
      "text/plain": [
       "(98.24923076923078, 0.7303577789050377, 0.064056614695193359)"
      ]
     },
     "execution_count": 6,
     "metadata": {},
     "output_type": "execute_result"
    }
   ],
   "source": [
    "true_mean = 98.6\n",
    "sample_mean = np.mean(df['temperature'])\n",
    "sample_std = np.std(df['temperature'])\n",
    "sample_sem = sample_std/np.sqrt(len(df))\n",
    "\n",
    "sample_mean, sample_std, sample_sem"
   ]
  },
  {
   "cell_type": "markdown",
   "metadata": {},
   "source": [
    "We obtained sample mean, standard deviation and standard error of mean. Let's check how many standard deviation is sample mean away from true mean of 98.6 degrees F."
   ]
  },
  {
   "cell_type": "code",
   "execution_count": 7,
   "metadata": {},
   "outputs": [
    {
     "data": {
      "text/plain": [
       "5.4759252020781162"
      ]
     },
     "execution_count": 7,
     "metadata": {},
     "output_type": "execute_result"
    }
   ],
   "source": [
    "z = (true_mean -  sample_mean)/sample_sem\n",
    "z"
   ]
  },
  {
   "cell_type": "markdown",
   "metadata": {},
   "source": [
    "### Computed z-score is 5.47 ###"
   ]
  },
  {
   "cell_type": "code",
   "execution_count": 8,
   "metadata": {},
   "outputs": [
    {
     "data": {
      "text/plain": [
       "4.3523151749269573e-08"
      ]
     },
     "execution_count": 8,
     "metadata": {},
     "output_type": "execute_result"
    }
   ],
   "source": [
    "p = (1 - sp.norm.cdf(z))*2\n",
    "p"
   ]
  },
  {
   "cell_type": "markdown",
   "metadata": {},
   "source": [
    "### p-value is extremely small than < 0.05 ####. \n",
    "* We can reject the null hypothesis that true population mean of body temperature is 98.6 degrees F.\n",
    "* We are using one-sample test for this situation. It is because we are comparing the sample mean to a known value of mean (98.6) body temperature for comparison. Thus, trying to identify or confirm whether the mean body temperature is 98.6 F.\n",
    "* In this scenario, it is better to use z-stat since the central limit theorem condition for sample size is qualified (n >= 30)."
   ]
  },
  {
   "cell_type": "markdown",
   "metadata": {},
   "source": [
    "## Applying t-statistics ##\n",
    "We are interested in checking if the p-value on both side of tails is significant. Let's test with two-tailed test."
   ]
  },
  {
   "cell_type": "code",
   "execution_count": 9,
   "metadata": {},
   "outputs": [
    {
     "data": {
      "text/plain": [
       "5.4759252020781162"
      ]
     },
     "execution_count": 9,
     "metadata": {},
     "output_type": "execute_result"
    }
   ],
   "source": [
    "t = z\n",
    "t"
   ]
  },
  {
   "cell_type": "code",
   "execution_count": 10,
   "metadata": {},
   "outputs": [
    {
     "data": {
      "text/plain": [
       "2.1887464640713006e-07"
      ]
     },
     "execution_count": 10,
     "metadata": {},
     "output_type": "execute_result"
    }
   ],
   "source": [
    "(1 - sp.t.cdf(t, len(df)-1))*2"
   ]
  },
  {
   "cell_type": "markdown",
   "metadata": {},
   "source": [
    "The p-value obtained from two-tailed t-test indicates that p-value is extremely small. Thus, it is significant. The null hypothesis of true mean body temperature being 98.6 degrees F is also rejected here as well."
   ]
  },
  {
   "cell_type": "markdown",
   "metadata": {},
   "source": [
    "## Q4. Draw a sample size of 10 from data and repeat both tests ##\n",
    "* Which one is correct one to use?\n",
    "* What do you notice? \n",
    "* What does this tell you differnce in application of t-test vs. z-test?"
   ]
  },
  {
   "cell_type": "code",
   "execution_count": 11,
   "metadata": {},
   "outputs": [
    {
     "name": "stdout",
     "output_type": "stream",
     "text": [
      "p-value: 1.0\n",
      "p-value: [ 0.99030707  0.992789    0.99345926  0.99419371  0.98979508  0.99132506\n",
      "  0.98742533  0.9903557   0.99245818  0.99035306]\n"
     ]
    }
   ],
   "source": [
    "# Bootstrap Sample: one sample #\n",
    "###############################################################################\n",
    "def bootstrap_replicate_1d(data,func):\n",
    "    return func(np.random.choice(data, size=len(data)))\n",
    "\n",
    "# Bootstrap statistics: by sample #\n",
    "def draw_bs_reps(data,func,size=1):\n",
    "    bs_replicates = np.empty(size)\n",
    "    \n",
    "    for i in range(size):\n",
    "        bs_replicates[i] = bootstrap_replicate_1d(data,np.mean)\n",
    "    \n",
    "    return bs_replicates\n",
    "###############################################################################\n",
    "# Compute t-statistics:\n",
    "bs_replicates_mean = draw_bs_reps(df.temperature, np.mean, size=10)\n",
    "p1 = np.sum(bs_replicates_mean <= 98.6)/10\n",
    "print('p-value:', p1)\n",
    "\n",
    "# Compute standard deviation:\n",
    "bs_replicates_std = draw_bs_reps(df.temperature, np.std, size=10)\n",
    "bs_replicates_sem = bs_replicates_std/np.sqrt(10)\n",
    "\n",
    "# Compute z-statistics:\n",
    "z2 = (true_mean - bs_replicates_mean)/bs_replicates_sem\n",
    "z2\n",
    "\n",
    "p2 = (1 - sp.norm.cdf(z2))*2\n",
    "print('p-value:', p2)"
   ]
  },
  {
   "cell_type": "markdown",
   "metadata": {},
   "source": [
    "## Q5. At what temperature should we consider someone's temperature to be \"abnormal\"? ##\n",
    "* Try calculating using the bootstrap approach as well as frequentist test approach.\n",
    "* Start by computing margin of errors and confidence interval.\n",
    "* Should use appropriate formula for one draw and not N draws."
   ]
  },
  {
   "cell_type": "code",
   "execution_count": 12,
   "metadata": {},
   "outputs": [
    {
     "name": "stdout",
     "output_type": "stream",
     "text": [
      "98.114966052 98.3680954865\n"
     ]
    }
   ],
   "source": [
    "## Bootstrap body temperature with sample size = 130 ##\n",
    "bs_reps = []\n",
    "for i in range(100):\n",
    "    sample = np.random.choice(df.temperature, size=130)\n",
    "    bs_reps.append(sample)\n",
    "\n",
    "# Compute bootstrap mean, std.dev and sem:\n",
    "bs_mean = np.mean(bs_reps) \n",
    "bs_std = np.std(bs_reps)\n",
    "bs_sem = bs_std/np.sqrt(130)\n",
    "    \n",
    "# bootstrap approach: z-statistics #\n",
    "z0 = sp.norm.ppf(0.975) # 95% Confidence Interval of mean body temp.\n",
    "\n",
    "# Calculate lower and upper bound of C.I:\n",
    "upper_temp = bs_mean + z0*bs_sem\n",
    "lower_temp = bs_mean - z0*bs_sem\n",
    "\n",
    "# Confidence Interval of 95%:\n",
    "print(lower_temp, upper_temp)"
   ]
  },
  {
   "cell_type": "code",
   "execution_count": 13,
   "metadata": {},
   "outputs": [
    {
     "name": "stdout",
     "output_type": "stream",
     "text": [
      "12.5548657774\n",
      "98.1236821115 98.374779427\n"
     ]
    }
   ],
   "source": [
    "# frequentist approach: z-statistics #\n",
    "z1 = sp.norm.ppf(0.975) # 95% Confidence Interval of mean body temp.\n",
    "\n",
    "# Calculate lower and upper bound of C.I:\n",
    "upper_temp = sample_mean + z1*sample_sem\n",
    "lower_temp = sample_mean - z1*sample_sem\n",
    "\n",
    "# Compute margin of errors:\n",
    "margin_error = z1*sample_sem\n",
    "print(margin_error*100)\n",
    "\n",
    "# Confidence Interval of 95%:\n",
    "print(lower_temp, upper_temp)"
   ]
  },
  {
   "cell_type": "markdown",
   "metadata": {},
   "source": [
    "### Conclusion ###\n",
    "From above results, we are 95% confident that true mean is somewhere between 98.123 and 98.375\n",
    "Thus, human body temperature falls below 98.124 and above 98.375 will be considered abnormal temperature."
   ]
  },
  {
   "cell_type": "markdown",
   "metadata": {},
   "source": [
    "## Q6. Is there a significant difference between males and females in normal temperature? ##\n",
    "* What testing approach did you use and why?\n",
    "* Write a story with your conclusion in context of the original problem"
   ]
  },
  {
   "cell_type": "code",
   "execution_count": 14,
   "metadata": {},
   "outputs": [
    {
     "data": {
      "text/plain": [
       "(65, 65)"
      ]
     },
     "execution_count": 14,
     "metadata": {},
     "output_type": "execute_result"
    }
   ],
   "source": [
    "# Partition data into male and female:\n",
    "df_male = df[df['gender'] == 'M']\n",
    "df_female = df[df['gender'] == 'F']\n",
    "\n",
    "# Check length of male and female observation counts:\n",
    "len(df_male), len(df_female)"
   ]
  },
  {
   "cell_type": "code",
   "execution_count": 15,
   "metadata": {},
   "outputs": [
    {
     "name": "stdout",
     "output_type": "stream",
     "text": [
      "98.1046153846154 0.6933598841828696\n",
      "98.39384615384613 0.7377464486428966\n"
     ]
    }
   ],
   "source": [
    "# Compute temperature for male and female:\n",
    "male_temp = df_male['temperature']\n",
    "female_temp = df_female['temperature']\n",
    "\n",
    "# Compue mean body temperature for male and female:\n",
    "male_mean_temp = np.mean(male_temp)\n",
    "male_std_temp = np.std(male_temp)\n",
    "print(male_mean_temp, male_std_temp)\n",
    "\n",
    "female_mean_temp = np.mean(female_temp)\n",
    "female_std_temp = np.std(female_temp)\n",
    "print(female_mean_temp, female_std_temp)"
   ]
  },
  {
   "cell_type": "markdown",
   "metadata": {},
   "source": [
    "### Hypothesis Testing ###\n",
    "* H0: the true mean body temperature of male and female is equal.\n",
    "* Ha: the true mean body temperature of male and female is not equal.\n",
    "The p-value of significance is alpha = 0.05;"
   ]
  },
  {
   "cell_type": "code",
   "execution_count": 16,
   "metadata": {},
   "outputs": [
    {
     "name": "stdout",
     "output_type": "stream",
     "text": [
      "0.289230769230727 0.125576685212\n",
      "2.30322028919\n",
      "0.0212664518301\n"
     ]
    }
   ],
   "source": [
    "# Compute mean difference and standard error of mean between male and female:\n",
    "H0_mean = 0\n",
    "mean_diff_temp = female_mean_temp - male_mean_temp\n",
    "sem_diff_temp = np.sqrt(((female_std_temp**2)/len(female_temp)) + ((male_std_temp**2)/len(male_temp)))\n",
    "print(mean_diff_temp, sem_diff_temp)\n",
    "\n",
    "# Compute z-score:\n",
    "z = (mean_diff_temp - H0_mean)/sem_diff_temp\n",
    "print(z)\n",
    "\n",
    "# Compute p-value:\n",
    "p = (1-sp.norm.cdf(z))*2\n",
    "print(p)"
   ]
  },
  {
   "cell_type": "markdown",
   "metadata": {},
   "source": [
    "## Conclusion ##\n",
    "Obtained p-value from hypothesis test is 0.02 which is smaller than p-value of significance.\n",
    "Thus, we reject the null hypothesis. In other words, **true mean body temperature of male and female is not EQUAL!**\n",
    "\n",
    "## EDA Summary on Human Body Temperature ##\n",
    "1. The body temperature distribution is normal and validated with test of normality.\n",
    "2. The human body temperatures are statistically independent.\n",
    "3. 95% of confidence interval confirmed that the mean body temperature is not 98.6 degrees F. This is validated with hypothesis test and z-statistics. \n",
    "4. z-statistics and t-statistics yield similar results for sample size greater than 30 as stated in Central Limit Theorem.\n",
    "5. Male and female body temperature are significantly different from each other!"
   ]
  }
 ],
 "metadata": {
  "kernelspec": {
   "display_name": "Python 3",
   "language": "python",
   "name": "python3"
  },
  "language_info": {
   "codemirror_mode": {
    "name": "ipython",
    "version": 3
   },
   "file_extension": ".py",
   "mimetype": "text/x-python",
   "name": "python",
   "nbconvert_exporter": "python",
   "pygments_lexer": "ipython3",
   "version": "3.5.4"
  }
 },
 "nbformat": 4,
 "nbformat_minor": 1
}
